{
 "cells": [
  {
   "cell_type": "markdown",
   "id": "f882e286",
   "metadata": {},
   "source": [
    "# 📊 SIGETI DWH - Analyse des KPI\n",
    "\n",
    "Ce notebook permet d'analyser les données du Data Warehouse SIGETI via les 7 vues KPI métier."
   ]
  },
  {
   "cell_type": "code",
   "execution_count": null,
   "id": "c24898f1",
   "metadata": {},
   "outputs": [],
   "source": [
    "# Imports et configuration\n",
    "import pandas as pd\n",
    "import psycopg2\n",
    "import plotly.express as px\n",
    "import plotly.graph_objects as go\n",
    "from plotly.subplots import make_subplots\n",
    "import os\n",
    "\n",
    "# Configuration de la connexion\n",
    "DB_CONFIG = {\n",
    "    'host': os.getenv('SIGETI_DB_HOST', 'host.docker.internal'),\n",
    "    'port': os.getenv('SIGETI_DB_PORT', '5432'),\n",
    "    'database': os.getenv('SIGETI_DB_NAME', 'sigeti_dwh'),\n",
    "    'user': os.getenv('SIGETI_DB_USER', 'sigeti_user'),\n",
    "    'password': os.getenv('SIGETI_DB_PASSWORD', 'sigeti123')\n",
    "}\n",
    "\n",
    "print(\"✅ Configuration chargée\")"
   ]
  },
  {
   "cell_type": "code",
   "execution_count": null,
   "id": "d784c1c2",
   "metadata": {},
   "outputs": [],
   "source": [
    "# Fonction de connexion à la base\n",
    "def get_connection():\n",
    "    try:\n",
    "        conn = psycopg2.connect(**DB_CONFIG)\n",
    "        print(\"✅ Connexion à SIGETI DWH établie\")\n",
    "        return conn\n",
    "    except Exception as e:\n",
    "        print(f\"❌ Erreur de connexion: {e}\")\n",
    "        return None\n",
    "\n",
    "# Fonction pour exécuter une requête et retourner un DataFrame\n",
    "def query_to_df(query, conn=None):\n",
    "    if conn is None:\n",
    "        conn = get_connection()\n",
    "    \n",
    "    if conn:\n",
    "        try:\n",
    "            df = pd.read_sql_query(query, conn)\n",
    "            return df\n",
    "        except Exception as e:\n",
    "            print(f\"❌ Erreur requête: {e}\")\n",
    "            return None\n",
    "    return None\n",
    "\n",
    "# Test de connexion\n",
    "conn = get_connection()\n",
    "if conn:\n",
    "    conn.close()"
   ]
  },
  {
   "cell_type": "markdown",
   "id": "a97e1192",
   "metadata": {},
   "source": [
    "## 🎯 KPI 1: Demandes par Statut"
   ]
  },
  {
   "cell_type": "code",
   "execution_count": null,
   "id": "5a6f0d18",
   "metadata": {},
   "outputs": [],
   "source": [
    "# Analyse des demandes par statut\n",
    "query_statut = \"SELECT * FROM v_kpi_demandes_par_statut ORDER BY nb_demandes DESC;\"\n",
    "df_statut = query_to_df(query_statut)\n",
    "\n",
    "if df_statut is not None:\n",
    "    print(\"📊 Répartition des demandes par statut:\")\n",
    "    display(df_statut)\n",
    "    \n",
    "    # Graphique en secteurs\n",
    "    fig = px.pie(df_statut, values='nb_demandes', names='statut', \n",
    "                 title='Répartition des Demandes par Statut')\n",
    "    fig.show()"
   ]
  },
  {
   "cell_type": "markdown",
   "id": "6c81d6e4",
   "metadata": {},
   "source": [
    "## 🗺️ KPI 2: Demandes par Type de Zone"
   ]
  },
  {
   "cell_type": "code",
   "execution_count": null,
   "id": "2a768371",
   "metadata": {},
   "outputs": [],
   "source": [
    "# Analyse par type de zone\n",
    "query_type = \"SELECT * FROM v_kpi_demandes_par_type;\"\n",
    "df_type = query_to_df(query_type)\n",
    "\n",
    "if df_type is not None:\n",
    "    print(\"🗺️ Répartition par type de zone:\")\n",
    "    display(df_type)\n",
    "    \n",
    "    # Graphique en barres\n",
    "    fig = px.bar(df_type, x='nb_zone_industrielle', y='nb_hors_zone',\n",
    "                 title='Demandes: Zone Industrielle vs Hors Zone',\n",
    "                 labels={'nb_zone_industrielle': 'Zone Industrielle', 'nb_hors_zone': 'Hors Zone'})\n",
    "    fig.show()"
   ]
  },
  {
   "cell_type": "markdown",
   "id": "296531e8",
   "metadata": {},
   "source": [
    "## 🏢 KPI 3: Performance par Entité"
   ]
  },
  {
   "cell_type": "code",
   "execution_count": null,
   "id": "df575272",
   "metadata": {},
   "outputs": [],
   "source": [
    "# Analyse performance par entité\n",
    "query_entite = \"SELECT * FROM v_kpi_demandes_par_entite ORDER BY nb_demandes DESC LIMIT 10;\"\n",
    "df_entite = query_to_df(query_entite)\n",
    "\n",
    "if df_entite is not None:\n",
    "    print(\"🏢 Top 10 des entités par volume:\")\n",
    "    display(df_entite)\n",
    "    \n",
    "    # Graphique des top entités\n",
    "    fig = px.bar(df_entite, x='entite_complete', y='nb_demandes',\n",
    "                 title='Top 10 Entités par Nombre de Demandes')\n",
    "    fig.update_xaxis(tickangle=45)\n",
    "    fig.show()"
   ]
  },
  {
   "cell_type": "markdown",
   "id": "8ceb7f1d",
   "metadata": {},
   "source": [
    "## ⚡ KPI 4: Priorités vs Normales"
   ]
  },
  {
   "cell_type": "code",
   "execution_count": null,
   "id": "fbe81434",
   "metadata": {},
   "outputs": [],
   "source": [
    "# Analyse priorités\n",
    "query_priorite = \"SELECT * FROM v_kpi_demandes_prioritaires;\"\n",
    "df_priorite = query_to_df(query_priorite)\n",
    "\n",
    "if df_priorite is not None:\n",
    "    print(\"⚡ Comparaison Prioritaires vs Normales:\")\n",
    "    display(df_priorite)\n",
    "    \n",
    "    # Graphique comparatif\n",
    "    categories = ['Prioritaires', 'Normales']\n",
    "    values = [df_priorite['nb_prioritaires'].iloc[0], df_priorite['nb_normales'].iloc[0]]\n",
    "    \n",
    "    fig = px.bar(x=categories, y=values, title='Demandes Prioritaires vs Normales',\n",
    "                 color=categories, color_discrete_sequence=['red', 'blue'])\n",
    "    fig.show()"
   ]
  },
  {
   "cell_type": "markdown",
   "id": "fd6ac475",
   "metadata": {},
   "source": [
    "## ⏱️ KPI 5: Délais de Traitement"
   ]
  },
  {
   "cell_type": "code",
   "execution_count": null,
   "id": "058eaecc",
   "metadata": {},
   "outputs": [],
   "source": [
    "# Analyse des délais\n",
    "query_delai = \"SELECT * FROM v_kpi_delai_traitement;\"\n",
    "df_delai = query_to_df(query_delai)\n",
    "\n",
    "if df_delai is not None:\n",
    "    print(\"⏱️ Analyse des délais de traitement:\")\n",
    "    display(df_delai)\n",
    "    \n",
    "    # Graphique des tranches de délais\n",
    "    if len(df_delai) > 0:\n",
    "        tranches = ['≤7 jours', '8-15 jours', '>15 jours']\n",
    "        values = [\n",
    "            df_delai['nb_delai_court'].iloc[0],\n",
    "            df_delai['nb_delai_moyen'].iloc[0], \n",
    "            df_delai['nb_delai_long'].iloc[0]\n",
    "        ]\n",
    "        \n",
    "        fig = px.bar(x=tranches, y=values, title='Répartition des Délais de Traitement',\n",
    "                     color=values, color_continuous_scale='RdYlGn_r')\n",
    "        fig.show()"
   ]
  },
  {
   "cell_type": "markdown",
   "id": "6be8aef9",
   "metadata": {},
   "source": [
    "## ✅ KPI 6: Taux d'Acceptation"
   ]
  },
  {
   "cell_type": "code",
   "execution_count": null,
   "id": "bbf21d6b",
   "metadata": {},
   "outputs": [],
   "source": [
    "# Analyse taux d'acceptation\n",
    "query_acceptation = \"SELECT * FROM v_kpi_taux_acceptation;\"\n",
    "df_acceptation = query_to_df(query_acceptation)\n",
    "\n",
    "if df_acceptation is not None:\n",
    "    print(\"✅ Taux d'acceptation:\")\n",
    "    display(df_acceptation)\n",
    "    \n",
    "    # Gauge du taux d'acceptation\n",
    "    if len(df_acceptation) > 0:\n",
    "        taux = df_acceptation['taux_acceptation'].iloc[0]\n",
    "        \n",
    "        fig = go.Figure(go.Indicator(\n",
    "            mode = \"gauge+number+delta\",\n",
    "            value = taux,\n",
    "            domain = {'x': [0, 1], 'y': [0, 1]},\n",
    "            title = {'text': \"Taux d'Acceptation (%)\"},\n",
    "            gauge = {\n",
    "                'axis': {'range': [None, 100]},\n",
    "                'bar': {'color': \"darkgreen\"},\n",
    "                'steps': [\n",
    "                    {'range': [0, 50], 'color': \"lightgray\"},\n",
    "                    {'range': [50, 85], 'color': \"gray\"}],\n",
    "                'threshold': {\n",
    "                    'line': {'color': \"red\", 'width': 4},\n",
    "                    'thickness': 0.75,\n",
    "                    'value': 90}}\n",
    "        ))\n",
    "        fig.show()"
   ]
  },
  {
   "cell_type": "markdown",
   "id": "3d41e008",
   "metadata": {},
   "source": [
    "## 📈 KPI 7: Évolution Temporelle"
   ]
  },
  {
   "cell_type": "code",
   "execution_count": null,
   "id": "a70fbf4a",
   "metadata": {},
   "outputs": [],
   "source": [
    "# Analyse évolution temporelle\n",
    "query_evolution = \"SELECT * FROM v_kpi_evolution_prioritaires ORDER BY mois;\"\n",
    "df_evolution = query_to_df(query_evolution)\n",
    "\n",
    "if df_evolution is not None and len(df_evolution) > 0:\n",
    "    print(\"📈 Évolution temporelle des priorités:\")\n",
    "    display(df_evolution)\n",
    "    \n",
    "    # Graphique d'évolution\n",
    "    fig = px.line(df_evolution, x='mois', y='nb_prioritaires_mois',\n",
    "                  title='Évolution Mensuelle des Demandes Prioritaires')\n",
    "    fig.show()\n",
    "else:\n",
    "    print(\"ℹ️ Pas assez de données temporelles pour l'analyse d'évolution\")"
   ]
  },
  {
   "cell_type": "markdown",
   "id": "d4cf4fac",
   "metadata": {},
   "source": [
    "## 📊 Dashboard Synthèse"
   ]
  },
  {
   "cell_type": "code",
   "execution_count": null,
   "id": "dc28cd24",
   "metadata": {},
   "outputs": [],
   "source": [
    "# Dashboard de synthèse avec tous les KPI\n",
    "print(\"📊 Dashboard de Synthèse SIGETI DWH\")\n",
    "print(\"=\" * 40)\n",
    "\n",
    "# Récupération de tous les KPI principaux\n",
    "kpis = {\n",
    "    'Demandes par Statut': query_to_df(\"SELECT COUNT(*) as total FROM v_kpi_demandes_par_statut\"),\n",
    "    'Types de Zone': query_to_df(\"SELECT * FROM v_kpi_demandes_par_type LIMIT 1\"),\n",
    "    'Entités Uniques': query_to_df(\"SELECT COUNT(DISTINCT entite_complete) as nb_entites FROM v_kpi_demandes_par_entite\"),\n",
    "    'Taux Acceptation': query_to_df(\"SELECT taux_acceptation FROM v_kpi_taux_acceptation LIMIT 1\")\n",
    "}\n",
    "\n",
    "for nom, df in kpis.items():\n",
    "    if df is not None and len(df) > 0:\n",
    "        print(f\"✅ {nom}: OK ({len(df)} ligne(s))\")\n",
    "    else:\n",
    "        print(f\"❌ {nom}: Aucune donnée\")\n",
    "\n",
    "print(\"\\n🎯 Analyse terminée!\")"
   ]
  }
 ],
 "metadata": {
  "language_info": {
   "name": "python"
  }
 },
 "nbformat": 4,
 "nbformat_minor": 5
}
